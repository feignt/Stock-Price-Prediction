{
 "cells": [
  {
   "cell_type": "code",
   "execution_count": 98,
   "metadata": {},
   "outputs": [],
   "source": [
    "import numpy as np \n",
    "import pandas as pd \n",
    "import os\n",
    "import math\n",
    "import seaborn as sns\n",
    "import datetime as dt\n",
    "from datetime import datetime    \n",
    "sns.set_style(\"whitegrid\")\n",
    "from pandas.plotting import autocorrelation_plot\n",
    "import matplotlib.pyplot as plt\n",
    "plt.style.use(\"ggplot\")"
   ]
  },
  {
   "cell_type": "code",
   "execution_count": 99,
   "metadata": {},
   "outputs": [
    {
     "name": "stdout",
     "output_type": "stream",
     "text": [
      "<class 'pandas.core.frame.DataFrame'>\n",
      "RangeIndex: 10416 entries, 0 to 10415\n",
      "Data columns (total 7 columns):\n",
      " #   Column          Non-Null Count  Dtype  \n",
      "---  ------          --------------  -----  \n",
      " 0   Date            10416 non-null  object \n",
      " 1   Low             10416 non-null  float64\n",
      " 2   Open            10416 non-null  float64\n",
      " 3   Volume          10416 non-null  int64  \n",
      " 4   High            10416 non-null  float64\n",
      " 5   Close           10416 non-null  float64\n",
      " 6   Adjusted Close  10416 non-null  float64\n",
      "dtypes: float64(5), int64(1), object(1)\n",
      "memory usage: 569.8+ KB\n"
     ]
    }
   ],
   "source": [
    "data = pd.read_csv('AAPL.csv')\n",
    "data.head()\n",
    "\n",
    "data.info()"
   ]
  },
  {
   "cell_type": "code",
   "execution_count": 100,
   "metadata": {},
   "outputs": [
    {
     "name": "stderr",
     "output_type": "stream",
     "text": [
      "C:\\Users\\Hufal\\AppData\\Local\\Temp/ipykernel_23124/552766564.py:2: FutureWarning: Dropping of nuisance columns in DataFrame reductions (with 'numeric_only=None') is deprecated; in a future version this will raise TypeError.  Select only valid columns before calling the reduction.\n",
      "  data.fillna(data.mean(), inplace=True)\n"
     ]
    },
    {
     "data": {
      "text/html": [
       "<div>\n",
       "<style scoped>\n",
       "    .dataframe tbody tr th:only-of-type {\n",
       "        vertical-align: middle;\n",
       "    }\n",
       "\n",
       "    .dataframe tbody tr th {\n",
       "        vertical-align: top;\n",
       "    }\n",
       "\n",
       "    .dataframe thead th {\n",
       "        text-align: right;\n",
       "    }\n",
       "</style>\n",
       "<table border=\"1\" class=\"dataframe\">\n",
       "  <thead>\n",
       "    <tr style=\"text-align: right;\">\n",
       "      <th></th>\n",
       "      <th>Date</th>\n",
       "      <th>Low</th>\n",
       "      <th>Open</th>\n",
       "      <th>Volume</th>\n",
       "      <th>High</th>\n",
       "      <th>Close</th>\n",
       "      <th>Adjusted Close</th>\n",
       "    </tr>\n",
       "  </thead>\n",
       "  <tbody>\n",
       "    <tr>\n",
       "      <th>0</th>\n",
       "      <td>12-12-1980</td>\n",
       "      <td>0.128348</td>\n",
       "      <td>0.128348</td>\n",
       "      <td>469033600</td>\n",
       "      <td>0.128906</td>\n",
       "      <td>0.128348</td>\n",
       "      <td>0.100323</td>\n",
       "    </tr>\n",
       "    <tr>\n",
       "      <th>1</th>\n",
       "      <td>15-12-1980</td>\n",
       "      <td>0.121652</td>\n",
       "      <td>0.122210</td>\n",
       "      <td>175884800</td>\n",
       "      <td>0.122210</td>\n",
       "      <td>0.121652</td>\n",
       "      <td>0.095089</td>\n",
       "    </tr>\n",
       "    <tr>\n",
       "      <th>2</th>\n",
       "      <td>16-12-1980</td>\n",
       "      <td>0.112723</td>\n",
       "      <td>0.113281</td>\n",
       "      <td>105728000</td>\n",
       "      <td>0.113281</td>\n",
       "      <td>0.112723</td>\n",
       "      <td>0.088110</td>\n",
       "    </tr>\n",
       "    <tr>\n",
       "      <th>3</th>\n",
       "      <td>17-12-1980</td>\n",
       "      <td>0.115513</td>\n",
       "      <td>0.115513</td>\n",
       "      <td>86441600</td>\n",
       "      <td>0.116071</td>\n",
       "      <td>0.115513</td>\n",
       "      <td>0.090291</td>\n",
       "    </tr>\n",
       "    <tr>\n",
       "      <th>4</th>\n",
       "      <td>18-12-1980</td>\n",
       "      <td>0.118862</td>\n",
       "      <td>0.118862</td>\n",
       "      <td>73449600</td>\n",
       "      <td>0.119420</td>\n",
       "      <td>0.118862</td>\n",
       "      <td>0.092908</td>\n",
       "    </tr>\n",
       "  </tbody>\n",
       "</table>\n",
       "</div>"
      ],
      "text/plain": [
       "         Date       Low      Open     Volume      High     Close  \\\n",
       "0  12-12-1980  0.128348  0.128348  469033600  0.128906  0.128348   \n",
       "1  15-12-1980  0.121652  0.122210  175884800  0.122210  0.121652   \n",
       "2  16-12-1980  0.112723  0.113281  105728000  0.113281  0.112723   \n",
       "3  17-12-1980  0.115513  0.115513   86441600  0.116071  0.115513   \n",
       "4  18-12-1980  0.118862  0.118862   73449600  0.119420  0.118862   \n",
       "\n",
       "   Adjusted Close  \n",
       "0        0.100323  \n",
       "1        0.095089  \n",
       "2        0.088110  \n",
       "3        0.090291  \n",
       "4        0.092908  "
      ]
     },
     "execution_count": 100,
     "metadata": {},
     "output_type": "execute_result"
    }
   ],
   "source": [
    "data.reset_index(drop=True, inplace=True)\n",
    "data.fillna(data.mean(), inplace=True)\n",
    "data.head()\n"
   ]
  },
  {
   "cell_type": "code",
   "execution_count": 101,
   "metadata": {},
   "outputs": [
    {
     "data": {
      "text/plain": [
       "Date              0\n",
       "Low               0\n",
       "Open              0\n",
       "Volume            0\n",
       "High              0\n",
       "Close             0\n",
       "Adjusted Close    0\n",
       "dtype: int64"
      ]
     },
     "execution_count": 101,
     "metadata": {},
     "output_type": "execute_result"
    }
   ],
   "source": [
    "data.isnull().sum()"
   ]
  },
  {
   "cell_type": "code",
   "execution_count": 102,
   "metadata": {},
   "outputs": [],
   "source": [
    "df=data"
   ]
  },
  {
   "cell_type": "code",
   "execution_count": 103,
   "metadata": {},
   "outputs": [
    {
     "name": "stdout",
     "output_type": "stream",
     "text": [
      "8251\n",
      "2063\n"
     ]
    }
   ],
   "source": [
    "from sklearn.model_selection import train_test_split\n",
    "\n",
    "X = []\n",
    "Y = []\n",
    "window_size=100\n",
    "for i in range(1 , len(df) - window_size -1 , 1):\n",
    "    first = df.iloc[i,2]\n",
    "    temp = []\n",
    "    temp2 = []\n",
    "    for j in range(window_size):\n",
    "        temp.append((df.iloc[i + j, 2] - first) / first)\n",
    "    temp2.append((df.iloc[i + window_size, 2] - first) / first)\n",
    "    X.append(np.array(temp).reshape(100, 1))\n",
    "    Y.append(np.array(temp2).reshape(1, 1))\n",
    "\n",
    "x_train, x_test, y_train, y_test = train_test_split(X, Y, test_size=0.2, shuffle=False)\n",
    "\n",
    "train_X = np.array(x_train)\n",
    "test_X = np.array(x_test)\n",
    "train_Y = np.array(y_train)\n",
    "test_Y = np.array(y_test)\n",
    "\n",
    "train_X = train_X.reshape(train_X.shape[0],1,100,1)\n",
    "test_X = test_X.reshape(test_X.shape[0],1,100,1)\n",
    "\n",
    "print(len(train_X))\n",
    "print(len(test_X))"
   ]
  },
  {
   "cell_type": "code",
   "execution_count": 104,
   "metadata": {},
   "outputs": [],
   "source": [
    "import tensorflow as tf\n",
    "from tensorflow.keras.layers import Conv1D, LSTM, Dense, Dropout, Bidirectional, TimeDistributed\n",
    "from tensorflow.keras.layers import MaxPooling1D, Flatten\n",
    "from tensorflow.keras.regularizers import L1, L2\n",
    "from tensorflow.keras.metrics import Accuracy\n",
    "from tensorflow.keras.metrics import RootMeanSquaredError\n",
    "from tensorflow.keras.utils import plot_model\n"
   ]
  },
  {
   "cell_type": "code",
   "execution_count": 112,
   "metadata": {},
   "outputs": [],
   "source": [
    "model = tf.keras.Sequential()\n",
    "model.add(TimeDistributed(Conv1D(64, kernel_size=3, activation='relu', input_shape=(None, 100, 1))))\n",
    "model.add(TimeDistributed(MaxPooling1D(2)))\n",
    "model.add(TimeDistributed(Conv1D(128, kernel_size=3, activation='relu')))\n",
    "model.add(TimeDistributed(MaxPooling1D(2)))\n",
    "model.add(TimeDistributed(Conv1D(64, kernel_size=3, activation='relu')))\n",
    "model.add(TimeDistributed(MaxPooling1D(2)))\n",
    "model.add(TimeDistributed(Flatten()))\n",
    "\n",
    "model.add(Bidirectional(LSTM(100, return_sequences=True)))\n",
    "model.add(Dropout(0.5))\n",
    "model.add(Bidirectional(LSTM(100, return_sequences=False)))\n",
    "model.add(Dropout(0.5))\n",
    "\n",
    "model.add(Dense(1, activation='linear'))\n",
    "model.compile(optimizer='adam', loss='mse', metrics=['mse', 'mae'])\n"
   ]
  },
  {
   "cell_type": "code",
   "execution_count": 113,
   "metadata": {},
   "outputs": [
    {
     "name": "stdout",
     "output_type": "stream",
     "text": [
      "Epoch 1/40\n",
      "207/207 [==============================] - 18s 45ms/step - loss: 0.0252 - mse: 0.0252 - mae: 0.1109 - val_loss: 0.0069 - val_mse: 0.0069 - val_mae: 0.0694\n",
      "Epoch 2/40\n",
      "207/207 [==============================] - 7s 34ms/step - loss: 0.0124 - mse: 0.0124 - mae: 0.0820 - val_loss: 0.0042 - val_mse: 0.0042 - val_mae: 0.0502\n",
      "Epoch 3/40\n",
      "207/207 [==============================] - 7s 35ms/step - loss: 0.0128 - mse: 0.0128 - mae: 0.0826 - val_loss: 0.0036 - val_mse: 0.0036 - val_mae: 0.0451\n",
      "Epoch 4/40\n",
      "207/207 [==============================] - 7s 33ms/step - loss: 0.0117 - mse: 0.0117 - mae: 0.0797 - val_loss: 0.0035 - val_mse: 0.0035 - val_mae: 0.0444\n",
      "Epoch 5/40\n",
      "207/207 [==============================] - 7s 31ms/step - loss: 0.0109 - mse: 0.0109 - mae: 0.0766 - val_loss: 0.0038 - val_mse: 0.0038 - val_mae: 0.0465\n",
      "Epoch 6/40\n",
      "207/207 [==============================] - 7s 32ms/step - loss: 0.0108 - mse: 0.0108 - mae: 0.0764 - val_loss: 0.0031 - val_mse: 0.0031 - val_mae: 0.0421\n",
      "Epoch 7/40\n",
      "207/207 [==============================] - 7s 35ms/step - loss: 0.0105 - mse: 0.0105 - mae: 0.0749 - val_loss: 0.0059 - val_mse: 0.0059 - val_mae: 0.0611\n",
      "Epoch 8/40\n",
      "207/207 [==============================] - 7s 34ms/step - loss: 0.0108 - mse: 0.0108 - mae: 0.0766 - val_loss: 0.0033 - val_mse: 0.0033 - val_mae: 0.0429\n",
      "Epoch 9/40\n",
      "207/207 [==============================] - 7s 34ms/step - loss: 0.0104 - mse: 0.0104 - mae: 0.0749 - val_loss: 0.0035 - val_mse: 0.0035 - val_mae: 0.0438\n",
      "Epoch 10/40\n",
      "207/207 [==============================] - 7s 34ms/step - loss: 0.0102 - mse: 0.0102 - mae: 0.0744 - val_loss: 0.0038 - val_mse: 0.0038 - val_mae: 0.0453\n",
      "Epoch 11/40\n",
      "207/207 [==============================] - 7s 36ms/step - loss: 0.0102 - mse: 0.0102 - mae: 0.0743 - val_loss: 0.0046 - val_mse: 0.0046 - val_mae: 0.0534\n",
      "Epoch 12/40\n",
      "207/207 [==============================] - 8s 37ms/step - loss: 0.0097 - mse: 0.0097 - mae: 0.0722 - val_loss: 0.0034 - val_mse: 0.0034 - val_mae: 0.0425\n",
      "Epoch 13/40\n",
      "207/207 [==============================] - 8s 38ms/step - loss: 0.0101 - mse: 0.0101 - mae: 0.0739 - val_loss: 0.0035 - val_mse: 0.0035 - val_mae: 0.0446\n",
      "Epoch 14/40\n",
      "207/207 [==============================] - 7s 36ms/step - loss: 0.0098 - mse: 0.0098 - mae: 0.0726 - val_loss: 0.0037 - val_mse: 0.0037 - val_mae: 0.0456\n",
      "Epoch 15/40\n",
      "207/207 [==============================] - 7s 34ms/step - loss: 0.0095 - mse: 0.0095 - mae: 0.0721 - val_loss: 0.0040 - val_mse: 0.0040 - val_mae: 0.0489\n",
      "Epoch 16/40\n",
      "207/207 [==============================] - 8s 38ms/step - loss: 0.0095 - mse: 0.0095 - mae: 0.0717 - val_loss: 0.0033 - val_mse: 0.0033 - val_mae: 0.0435\n",
      "Epoch 17/40\n",
      "207/207 [==============================] - 7s 36ms/step - loss: 0.0089 - mse: 0.0089 - mae: 0.0699 - val_loss: 0.0034 - val_mse: 0.0034 - val_mae: 0.0432\n",
      "Epoch 18/40\n",
      "207/207 [==============================] - 7s 34ms/step - loss: 0.0088 - mse: 0.0088 - mae: 0.0699 - val_loss: 0.0036 - val_mse: 0.0036 - val_mae: 0.0458\n",
      "Epoch 19/40\n",
      "207/207 [==============================] - 7s 34ms/step - loss: 0.0087 - mse: 0.0087 - mae: 0.0695 - val_loss: 0.0033 - val_mse: 0.0033 - val_mae: 0.0422\n",
      "Epoch 20/40\n",
      "207/207 [==============================] - 7s 34ms/step - loss: 0.0081 - mse: 0.0081 - mae: 0.0672 - val_loss: 0.0034 - val_mse: 0.0034 - val_mae: 0.0435\n",
      "Epoch 21/40\n",
      "207/207 [==============================] - 7s 35ms/step - loss: 0.0081 - mse: 0.0081 - mae: 0.0675 - val_loss: 0.0037 - val_mse: 0.0037 - val_mae: 0.0455\n",
      "Epoch 22/40\n",
      "207/207 [==============================] - 7s 34ms/step - loss: 0.0078 - mse: 0.0078 - mae: 0.0666 - val_loss: 0.0038 - val_mse: 0.0038 - val_mae: 0.0464\n",
      "Epoch 23/40\n",
      "207/207 [==============================] - 7s 34ms/step - loss: 0.0077 - mse: 0.0077 - mae: 0.0659 - val_loss: 0.0035 - val_mse: 0.0035 - val_mae: 0.0446\n",
      "Epoch 24/40\n",
      "207/207 [==============================] - 7s 34ms/step - loss: 0.0078 - mse: 0.0078 - mae: 0.0664 - val_loss: 0.0035 - val_mse: 0.0035 - val_mae: 0.0447\n",
      "Epoch 25/40\n",
      "207/207 [==============================] - 7s 36ms/step - loss: 0.0075 - mse: 0.0075 - mae: 0.0649 - val_loss: 0.0039 - val_mse: 0.0039 - val_mae: 0.0474\n",
      "Epoch 26/40\n",
      "207/207 [==============================] - 7s 34ms/step - loss: 0.0075 - mse: 0.0075 - mae: 0.0647 - val_loss: 0.0043 - val_mse: 0.0043 - val_mae: 0.0497\n",
      "Epoch 27/40\n",
      "207/207 [==============================] - 7s 33ms/step - loss: 0.0072 - mse: 0.0072 - mae: 0.0637 - val_loss: 0.0036 - val_mse: 0.0036 - val_mae: 0.0457\n",
      "Epoch 28/40\n",
      "207/207 [==============================] - 7s 33ms/step - loss: 0.0071 - mse: 0.0071 - mae: 0.0638 - val_loss: 0.0041 - val_mse: 0.0041 - val_mae: 0.0475\n",
      "Epoch 29/40\n",
      "207/207 [==============================] - 7s 34ms/step - loss: 0.0071 - mse: 0.0071 - mae: 0.0634 - val_loss: 0.0039 - val_mse: 0.0039 - val_mae: 0.0476\n",
      "Epoch 30/40\n",
      "207/207 [==============================] - 7s 34ms/step - loss: 0.0068 - mse: 0.0068 - mae: 0.0623 - val_loss: 0.0041 - val_mse: 0.0041 - val_mae: 0.0479\n",
      "Epoch 31/40\n",
      "207/207 [==============================] - 7s 34ms/step - loss: 0.0066 - mse: 0.0066 - mae: 0.0614 - val_loss: 0.0036 - val_mse: 0.0036 - val_mae: 0.0455\n",
      "Epoch 32/40\n",
      "207/207 [==============================] - 7s 33ms/step - loss: 0.0065 - mse: 0.0065 - mae: 0.0616 - val_loss: 0.0039 - val_mse: 0.0039 - val_mae: 0.0476\n",
      "Epoch 33/40\n",
      "207/207 [==============================] - 7s 34ms/step - loss: 0.0063 - mse: 0.0063 - mae: 0.0607 - val_loss: 0.0041 - val_mse: 0.0041 - val_mae: 0.0485\n",
      "Epoch 34/40\n",
      "207/207 [==============================] - 7s 34ms/step - loss: 0.0061 - mse: 0.0061 - mae: 0.0601 - val_loss: 0.0039 - val_mse: 0.0039 - val_mae: 0.0461\n",
      "Epoch 35/40\n",
      "207/207 [==============================] - 7s 34ms/step - loss: 0.0060 - mse: 0.0060 - mae: 0.0590 - val_loss: 0.0039 - val_mse: 0.0039 - val_mae: 0.0469\n",
      "Epoch 36/40\n",
      "207/207 [==============================] - 7s 34ms/step - loss: 0.0063 - mse: 0.0063 - mae: 0.0603 - val_loss: 0.0041 - val_mse: 0.0041 - val_mae: 0.0486\n",
      "Epoch 37/40\n",
      "207/207 [==============================] - 7s 35ms/step - loss: 0.0059 - mse: 0.0059 - mae: 0.0585 - val_loss: 0.0042 - val_mse: 0.0042 - val_mae: 0.0495\n",
      "Epoch 38/40\n",
      "207/207 [==============================] - 7s 32ms/step - loss: 0.0057 - mse: 0.0057 - mae: 0.0575 - val_loss: 0.0044 - val_mse: 0.0044 - val_mae: 0.0508\n",
      "Epoch 39/40\n",
      "207/207 [==============================] - 6s 31ms/step - loss: 0.0058 - mse: 0.0058 - mae: 0.0579 - val_loss: 0.0041 - val_mse: 0.0041 - val_mae: 0.0486\n",
      "Epoch 40/40\n",
      "207/207 [==============================] - 6s 30ms/step - loss: 0.0055 - mse: 0.0055 - mae: 0.0568 - val_loss: 0.0041 - val_mse: 0.0041 - val_mae: 0.0486\n"
     ]
    }
   ],
   "source": [
    "history = model.fit(train_X, train_Y, validation_data=(test_X,test_Y), epochs=40,batch_size=40, verbose=1, shuffle =True)"
   ]
  },
  {
   "cell_type": "code",
   "execution_count": 114,
   "metadata": {},
   "outputs": [
    {
     "name": "stdout",
     "output_type": "stream",
     "text": [
      "65/65 [==============================] - 1s 10ms/step - loss: 0.0041 - mse: 0.0041 - mae: 0.0486\n"
     ]
    },
    {
     "data": {
      "text/plain": [
       "[0.004101017490029335, 0.004101017490029335, 0.04861331358551979]"
      ]
     },
     "execution_count": 114,
     "metadata": {},
     "output_type": "execute_result"
    }
   ],
   "source": [
    "model.evaluate(test_X, test_Y)"
   ]
  },
  {
   "cell_type": "code",
   "execution_count": 115,
   "metadata": {},
   "outputs": [
    {
     "data": {
      "image/png": "[encoded data removed]",
      "text/plain": [
       "<Figure size 432x288 with 1 Axes>"
      ]
     },
     "metadata": {},
     "output_type": "display_data"
    }
   ],
   "source": [
    "predicted  = model.predict(test_X)\n",
    "test_label = test_Y.reshape(-1,1)\n",
    "predicted = np.array(predicted[:,0]).reshape(-1,1)\n",
    "len_t = len(train_X)\n",
    "for j in range(len_t , len_t + len(test_X)):\n",
    "    temp = data.iloc[j,3]\n",
    "    test_label[j - len_t] = test_label[j - len_t] * temp + temp\n",
    "    predicted[j - len_t] = predicted[j - len_t] * temp + temp\n",
    "plt.plot(predicted, color = 'green', label = 'Predicted  Stock Price')\n",
    "plt.plot(test_label, color = 'red', label = 'Real Stock Price')\n",
    "plt.title(' Stock Price Prediction')\n",
    "plt.xlabel('Time')\n",
    "plt.ylabel(' Stock Price')\n",
    "plt.legend()\n",
    "plt.show()"
   ]
  },
  {
   "cell_type": "code",
   "execution_count": 116,
   "metadata": {},
   "outputs": [],
   "source": [
    "model.save(\"model.h5\")"
   ]
  },
  {
   "cell_type": "code",
   "execution_count": 117,
   "metadata": {},
   "outputs": [
    {
     "name": "stdout",
     "output_type": "stream",
     "text": [
      "4.3555474\n"
     ]
    }
   ],
   "source": [
    "from tensorflow import keras\n",
    "yActual = test_label\n",
    "yPredicted = predicted\n",
    " \n",
    "mapeObject = keras.losses.MeanAbsolutePercentageError()\n",
    "mapeTensor = mapeObject(yActual, yPredicted)\n",
    "mape = mapeTensor.numpy()\n",
    " \n",
    "print(mape)"
   ]
  },
  {
   "cell_type": "code",
   "execution_count": null,
   "metadata": {},
   "outputs": [],
   "source": []
  }
 ],
 "metadata": {
  "interpreter": {
   "hash": "7d63477d783983fa8490645f3080eec32b116d0acaa9d38947e7e0db2b45ceaa"
  },
  "kernelspec": {
   "display_name": "Python 3.9.6 64-bit",
   "language": "python",
   "name": "python3"
  },
  "language_info": {
   "codemirror_mode": {
    "name": "ipython",
    "version": 3
   },
   "file_extension": ".py",
   "mimetype": "text/x-python",
   "name": "python",
   "nbconvert_exporter": "python",
   "pygments_lexer": "ipython3",
   "version": "3.9.6"
  },
  "orig_nbformat": 4
 },
 "nbformat": 4,
 "nbformat_minor": 2
}
