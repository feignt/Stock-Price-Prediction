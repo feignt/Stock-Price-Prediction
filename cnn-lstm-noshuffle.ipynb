{
 "cells": [
  {
   "cell_type": "code",
   "execution_count": 16,
   "metadata": {},
   "outputs": [],
   "source": [
    "import numpy as np \n",
    "import pandas as pd \n",
    "import os\n",
    "import math\n",
    "import seaborn as sns\n",
    "import datetime as dt\n",
    "from datetime import datetime    \n",
    "sns.set_style(\"whitegrid\")\n",
    "from pandas.plotting import autocorrelation_plot\n",
    "import matplotlib.pyplot as plt\n",
    "plt.style.use(\"ggplot\")"
   ]
  },
  {
   "cell_type": "code",
   "execution_count": 17,
   "metadata": {},
   "outputs": [
    {
     "name": "stdout",
     "output_type": "stream",
     "text": [
      "<class 'pandas.core.frame.DataFrame'>\n",
      "RangeIndex: 10416 entries, 0 to 10415\n",
      "Data columns (total 3 columns):\n",
      " #   Column  Non-Null Count  Dtype  \n",
      "---  ------  --------------  -----  \n",
      " 0   Date    10416 non-null  object \n",
      " 1   Open    10416 non-null  float64\n",
      " 2   Close   10416 non-null  float64\n",
      "dtypes: float64(2), object(1)\n",
      "memory usage: 244.2+ KB\n"
     ]
    }
   ],
   "source": [
    "data = pd.read_csv('testset.csv')\n",
    "data.head()\n",
    "\n",
    "data.info()"
   ]
  },
  {
   "cell_type": "code",
   "execution_count": 18,
   "metadata": {},
   "outputs": [
    {
     "name": "stderr",
     "output_type": "stream",
     "text": [
      "C:\\Users\\Hufal\\AppData\\Local\\Temp/ipykernel_6224/552766564.py:2: FutureWarning: Dropping of nuisance columns in DataFrame reductions (with 'numeric_only=None') is deprecated; in a future version this will raise TypeError.  Select only valid columns before calling the reduction.\n",
      "  data.fillna(data.mean(), inplace=True)\n"
     ]
    },
    {
     "data": {
      "text/html": [
       "<div>\n",
       "<style scoped>\n",
       "    .dataframe tbody tr th:only-of-type {\n",
       "        vertical-align: middle;\n",
       "    }\n",
       "\n",
       "    .dataframe tbody tr th {\n",
       "        vertical-align: top;\n",
       "    }\n",
       "\n",
       "    .dataframe thead th {\n",
       "        text-align: right;\n",
       "    }\n",
       "</style>\n",
       "<table border=\"1\" class=\"dataframe\">\n",
       "  <thead>\n",
       "    <tr style=\"text-align: right;\">\n",
       "      <th></th>\n",
       "      <th>Date</th>\n",
       "      <th>Open</th>\n",
       "      <th>Close</th>\n",
       "    </tr>\n",
       "  </thead>\n",
       "  <tbody>\n",
       "    <tr>\n",
       "      <th>0</th>\n",
       "      <td>12/12/1980</td>\n",
       "      <td>0.128348</td>\n",
       "      <td>0.128348</td>\n",
       "    </tr>\n",
       "    <tr>\n",
       "      <th>1</th>\n",
       "      <td>15/12/1980</td>\n",
       "      <td>0.122210</td>\n",
       "      <td>0.121652</td>\n",
       "    </tr>\n",
       "    <tr>\n",
       "      <th>2</th>\n",
       "      <td>16/12/1980</td>\n",
       "      <td>0.113281</td>\n",
       "      <td>0.112723</td>\n",
       "    </tr>\n",
       "    <tr>\n",
       "      <th>3</th>\n",
       "      <td>17/12/1980</td>\n",
       "      <td>0.115513</td>\n",
       "      <td>0.115513</td>\n",
       "    </tr>\n",
       "    <tr>\n",
       "      <th>4</th>\n",
       "      <td>18/12/1980</td>\n",
       "      <td>0.118862</td>\n",
       "      <td>0.118862</td>\n",
       "    </tr>\n",
       "  </tbody>\n",
       "</table>\n",
       "</div>"
      ],
      "text/plain": [
       "         Date      Open     Close\n",
       "0  12/12/1980  0.128348  0.128348\n",
       "1  15/12/1980  0.122210  0.121652\n",
       "2  16/12/1980  0.113281  0.112723\n",
       "3  17/12/1980  0.115513  0.115513\n",
       "4  18/12/1980  0.118862  0.118862"
      ]
     },
     "execution_count": 18,
     "metadata": {},
     "output_type": "execute_result"
    }
   ],
   "source": [
    "data.reset_index(drop=True, inplace=True)\n",
    "data.fillna(data.mean(), inplace=True)\n",
    "data.head()\n"
   ]
  },
  {
   "cell_type": "code",
   "execution_count": 19,
   "metadata": {},
   "outputs": [
    {
     "data": {
      "text/plain": [
       "Date     0\n",
       "Open     0\n",
       "Close    0\n",
       "dtype: int64"
      ]
     },
     "execution_count": 19,
     "metadata": {},
     "output_type": "execute_result"
    }
   ],
   "source": [
    "data.isnull().sum()"
   ]
  },
  {
   "cell_type": "code",
   "execution_count": 20,
   "metadata": {},
   "outputs": [],
   "source": [
    "df=data"
   ]
  },
  {
   "cell_type": "code",
   "execution_count": 21,
   "metadata": {},
   "outputs": [
    {
     "name": "stdout",
     "output_type": "stream",
     "text": [
      "8251\n",
      "2063\n"
     ]
    }
   ],
   "source": [
    "from sklearn.model_selection import train_test_split\n",
    "\n",
    "X = []\n",
    "Y = []\n",
    "window_size=100\n",
    "for i in range(1 , len(df) - window_size -1 , 1):\n",
    "    first = df.iloc[i,2]\n",
    "    temp = []\n",
    "    temp2 = []\n",
    "    for j in range(window_size):\n",
    "        temp.append((df.iloc[i + j, 2] - first) / first)\n",
    "    temp2.append((df.iloc[i + window_size, 2] - first) / first)\n",
    "    X.append(np.array(temp).reshape(100, 1))\n",
    "    Y.append(np.array(temp2).reshape(1, 1))\n",
    "\n",
    "x_train, x_test, y_train, y_test = train_test_split(X, Y, test_size=0.2, shuffle=False)\n",
    "\n",
    "train_X = np.array(x_train)\n",
    "test_X = np.array(x_test)\n",
    "train_Y = np.array(y_train)\n",
    "test_Y = np.array(y_test)\n",
    "\n",
    "train_X = train_X.reshape(train_X.shape[0],1,100,1)\n",
    "test_X = test_X.reshape(test_X.shape[0],1,100,1)\n",
    "\n",
    "print(len(train_X))\n",
    "print(len(test_X))"
   ]
  },
  {
   "cell_type": "code",
   "execution_count": 22,
   "metadata": {},
   "outputs": [],
   "source": [
    "import tensorflow as tf\n",
    "from tensorflow.keras.layers import Conv1D, LSTM, Dense, Dropout, Bidirectional, TimeDistributed\n",
    "from tensorflow.keras.layers import MaxPooling1D, Flatten\n",
    "from tensorflow.keras.regularizers import L1, L2\n",
    "from tensorflow.keras.metrics import Accuracy\n",
    "from tensorflow.keras.metrics import RootMeanSquaredError\n"
   ]
  },
  {
   "cell_type": "code",
   "execution_count": 23,
   "metadata": {},
   "outputs": [],
   "source": [
    "model = tf.keras.Sequential()\n",
    "model.add(TimeDistributed(Conv1D(64, kernel_size=3, activation='relu', input_shape=(None, 100, 1))))\n",
    "model.add(TimeDistributed(MaxPooling1D(2)))\n",
    "model.add(TimeDistributed(Conv1D(128, kernel_size=3, activation='relu')))\n",
    "model.add(TimeDistributed(MaxPooling1D(2)))\n",
    "model.add(TimeDistributed(Conv1D(64, kernel_size=3, activation='relu')))\n",
    "model.add(TimeDistributed(MaxPooling1D(2)))\n",
    "model.add(TimeDistributed(Flatten()))\n",
    "\n",
    "model.add(Bidirectional(LSTM(100, return_sequences=True)))\n",
    "model.add(Dropout(0.5))\n",
    "model.add(Bidirectional(LSTM(100, return_sequences=False)))\n",
    "model.add(Dropout(0.5))\n",
    "\n",
    "model.add(Dense(1, activation='linear'))\n",
    "model.compile(optimizer='adam', loss='mse', metrics=['mse', 'mae'])"
   ]
  },
  {
   "cell_type": "code",
   "execution_count": 24,
   "metadata": {},
   "outputs": [
    {
     "name": "stdout",
     "output_type": "stream",
     "text": [
      "Epoch 1/40\n",
      "207/207 [==============================] - 13s 29ms/step - loss: 0.0250 - mse: 0.0250 - mae: 0.1116 - val_loss: 0.0041 - val_mse: 0.0041 - val_mae: 0.0491\n",
      "Epoch 2/40\n",
      "207/207 [==============================] - 5s 22ms/step - loss: 0.0137 - mse: 0.0137 - mae: 0.0853 - val_loss: 0.0048 - val_mse: 0.0048 - val_mae: 0.0515\n",
      "Epoch 3/40\n",
      "207/207 [==============================] - 4s 21ms/step - loss: 0.0129 - mse: 0.0129 - mae: 0.0838 - val_loss: 0.0037 - val_mse: 0.0037 - val_mae: 0.0452\n",
      "Epoch 4/40\n",
      "207/207 [==============================] - 4s 21ms/step - loss: 0.0118 - mse: 0.0118 - mae: 0.0793 - val_loss: 0.0033 - val_mse: 0.0033 - val_mae: 0.0440\n",
      "Epoch 5/40\n",
      "207/207 [==============================] - 4s 20ms/step - loss: 0.0116 - mse: 0.0116 - mae: 0.0794 - val_loss: 0.0037 - val_mse: 0.0037 - val_mae: 0.0467\n",
      "Epoch 6/40\n",
      "207/207 [==============================] - 4s 21ms/step - loss: 0.0112 - mse: 0.0112 - mae: 0.0772 - val_loss: 0.0035 - val_mse: 0.0035 - val_mae: 0.0455\n",
      "Epoch 7/40\n",
      "207/207 [==============================] - 4s 21ms/step - loss: 0.0112 - mse: 0.0112 - mae: 0.0778 - val_loss: 0.0036 - val_mse: 0.0036 - val_mae: 0.0460\n",
      "Epoch 8/40\n",
      "207/207 [==============================] - 5s 22ms/step - loss: 0.0109 - mse: 0.0109 - mae: 0.0770 - val_loss: 0.0034 - val_mse: 0.0034 - val_mae: 0.0438\n",
      "Epoch 9/40\n",
      "207/207 [==============================] - 4s 21ms/step - loss: 0.0103 - mse: 0.0103 - mae: 0.0746 - val_loss: 0.0032 - val_mse: 0.0032 - val_mae: 0.0426\n",
      "Epoch 10/40\n",
      "207/207 [==============================] - 5s 22ms/step - loss: 0.0106 - mse: 0.0106 - mae: 0.0756 - val_loss: 0.0032 - val_mse: 0.0032 - val_mae: 0.0421\n",
      "Epoch 11/40\n",
      "207/207 [==============================] - 4s 20ms/step - loss: 0.0100 - mse: 0.0100 - mae: 0.0738 - val_loss: 0.0034 - val_mse: 0.0034 - val_mae: 0.0445\n",
      "Epoch 12/40\n",
      "207/207 [==============================] - 5s 22ms/step - loss: 0.0100 - mse: 0.0100 - mae: 0.0731 - val_loss: 0.0047 - val_mse: 0.0047 - val_mae: 0.0530\n",
      "Epoch 13/40\n",
      "207/207 [==============================] - 5s 23ms/step - loss: 0.0096 - mse: 0.0096 - mae: 0.0727 - val_loss: 0.0033 - val_mse: 0.0033 - val_mae: 0.0428\n",
      "Epoch 14/40\n",
      "207/207 [==============================] - 5s 22ms/step - loss: 0.0097 - mse: 0.0097 - mae: 0.0725 - val_loss: 0.0043 - val_mse: 0.0043 - val_mae: 0.0488\n",
      "Epoch 15/40\n",
      "207/207 [==============================] - 4s 21ms/step - loss: 0.0092 - mse: 0.0092 - mae: 0.0716 - val_loss: 0.0033 - val_mse: 0.0033 - val_mae: 0.0429\n",
      "Epoch 16/40\n",
      "207/207 [==============================] - 4s 21ms/step - loss: 0.0092 - mse: 0.0092 - mae: 0.0707 - val_loss: 0.0045 - val_mse: 0.0045 - val_mae: 0.0528\n",
      "Epoch 17/40\n",
      "207/207 [==============================] - 4s 21ms/step - loss: 0.0090 - mse: 0.0090 - mae: 0.0707 - val_loss: 0.0034 - val_mse: 0.0034 - val_mae: 0.0439\n",
      "Epoch 18/40\n",
      "207/207 [==============================] - 4s 21ms/step - loss: 0.0089 - mse: 0.0089 - mae: 0.0702 - val_loss: 0.0033 - val_mse: 0.0033 - val_mae: 0.0431\n",
      "Epoch 19/40\n",
      "207/207 [==============================] - 4s 20ms/step - loss: 0.0085 - mse: 0.0085 - mae: 0.0688 - val_loss: 0.0044 - val_mse: 0.0044 - val_mae: 0.0510\n",
      "Epoch 20/40\n",
      "207/207 [==============================] - 4s 20ms/step - loss: 0.0087 - mse: 0.0087 - mae: 0.0690 - val_loss: 0.0033 - val_mse: 0.0033 - val_mae: 0.0431\n",
      "Epoch 21/40\n",
      "207/207 [==============================] - 4s 20ms/step - loss: 0.0084 - mse: 0.0084 - mae: 0.0683 - val_loss: 0.0036 - val_mse: 0.0036 - val_mae: 0.0456\n",
      "Epoch 22/40\n",
      "207/207 [==============================] - 4s 20ms/step - loss: 0.0083 - mse: 0.0083 - mae: 0.0681 - val_loss: 0.0034 - val_mse: 0.0034 - val_mae: 0.0446\n",
      "Epoch 23/40\n",
      "207/207 [==============================] - 4s 20ms/step - loss: 0.0081 - mse: 0.0081 - mae: 0.0674 - val_loss: 0.0034 - val_mse: 0.0034 - val_mae: 0.0442\n",
      "Epoch 24/40\n",
      "207/207 [==============================] - 4s 20ms/step - loss: 0.0078 - mse: 0.0078 - mae: 0.0663 - val_loss: 0.0042 - val_mse: 0.0042 - val_mae: 0.0496\n",
      "Epoch 25/40\n",
      "207/207 [==============================] - 4s 20ms/step - loss: 0.0076 - mse: 0.0076 - mae: 0.0654 - val_loss: 0.0036 - val_mse: 0.0036 - val_mae: 0.0457\n",
      "Epoch 26/40\n",
      "207/207 [==============================] - 4s 21ms/step - loss: 0.0076 - mse: 0.0076 - mae: 0.0652 - val_loss: 0.0040 - val_mse: 0.0040 - val_mae: 0.0484\n",
      "Epoch 27/40\n",
      "207/207 [==============================] - 4s 20ms/step - loss: 0.0073 - mse: 0.0073 - mae: 0.0645 - val_loss: 0.0040 - val_mse: 0.0040 - val_mae: 0.0481\n",
      "Epoch 28/40\n",
      "207/207 [==============================] - 4s 21ms/step - loss: 0.0073 - mse: 0.0073 - mae: 0.0648 - val_loss: 0.0039 - val_mse: 0.0039 - val_mae: 0.0472\n",
      "Epoch 29/40\n",
      "207/207 [==============================] - 4s 21ms/step - loss: 0.0073 - mse: 0.0073 - mae: 0.0646 - val_loss: 0.0040 - val_mse: 0.0040 - val_mae: 0.0479\n",
      "Epoch 30/40\n",
      "207/207 [==============================] - 4s 20ms/step - loss: 0.0068 - mse: 0.0068 - mae: 0.0630 - val_loss: 0.0038 - val_mse: 0.0038 - val_mae: 0.0467\n",
      "Epoch 31/40\n",
      "207/207 [==============================] - 4s 21ms/step - loss: 0.0068 - mse: 0.0068 - mae: 0.0628 - val_loss: 0.0041 - val_mse: 0.0041 - val_mae: 0.0493\n",
      "Epoch 32/40\n",
      "207/207 [==============================] - 4s 20ms/step - loss: 0.0067 - mse: 0.0067 - mae: 0.0621 - val_loss: 0.0035 - val_mse: 0.0035 - val_mae: 0.0447\n",
      "Epoch 33/40\n",
      "207/207 [==============================] - 4s 20ms/step - loss: 0.0069 - mse: 0.0069 - mae: 0.0631 - val_loss: 0.0036 - val_mse: 0.0036 - val_mae: 0.0459\n",
      "Epoch 34/40\n",
      "207/207 [==============================] - 4s 20ms/step - loss: 0.0063 - mse: 0.0063 - mae: 0.0605 - val_loss: 0.0041 - val_mse: 0.0041 - val_mae: 0.0488\n",
      "Epoch 35/40\n",
      "207/207 [==============================] - 4s 20ms/step - loss: 0.0064 - mse: 0.0064 - mae: 0.0605 - val_loss: 0.0039 - val_mse: 0.0039 - val_mae: 0.0472\n",
      "Epoch 36/40\n",
      "207/207 [==============================] - 4s 20ms/step - loss: 0.0062 - mse: 0.0062 - mae: 0.0603 - val_loss: 0.0039 - val_mse: 0.0039 - val_mae: 0.0476\n",
      "Epoch 37/40\n",
      "207/207 [==============================] - 4s 20ms/step - loss: 0.0060 - mse: 0.0060 - mae: 0.0598 - val_loss: 0.0047 - val_mse: 0.0047 - val_mae: 0.0520\n",
      "Epoch 38/40\n",
      "207/207 [==============================] - 4s 20ms/step - loss: 0.0062 - mse: 0.0062 - mae: 0.0598 - val_loss: 0.0037 - val_mse: 0.0037 - val_mae: 0.0467\n",
      "Epoch 39/40\n",
      "207/207 [==============================] - 4s 20ms/step - loss: 0.0059 - mse: 0.0059 - mae: 0.0589 - val_loss: 0.0040 - val_mse: 0.0040 - val_mae: 0.0487\n",
      "Epoch 40/40\n",
      "207/207 [==============================] - 4s 20ms/step - loss: 0.0056 - mse: 0.0056 - mae: 0.0574 - val_loss: 0.0047 - val_mse: 0.0047 - val_mae: 0.0520\n"
     ]
    }
   ],
   "source": [
    "history = model.fit(train_X, train_Y, validation_data=(test_X,test_Y), epochs=40,batch_size=40, verbose=1, shuffle =True)\n"
   ]
  },
  {
   "cell_type": "code",
   "execution_count": 25,
   "metadata": {},
   "outputs": [
    {
     "name": "stdout",
     "output_type": "stream",
     "text": [
      "65/65 [==============================] - 0s 6ms/step - loss: 0.0047 - mse: 0.0047 - mae: 0.0520\n"
     ]
    },
    {
     "data": {
      "text/plain": [
       "[0.004679618403315544, 0.004679618403315544, 0.05204108729958534]"
      ]
     },
     "execution_count": 25,
     "metadata": {},
     "output_type": "execute_result"
    }
   ],
   "source": [
    "model.evaluate(test_X, test_Y)"
   ]
  },
  {
   "cell_type": "code",
   "execution_count": 26,
   "metadata": {},
   "outputs": [
    {
     "name": "stdout",
     "output_type": "stream",
     "text": [
      "Variance: 0.867589\n",
      "R2 Score: 0.867589\n",
      "Max Error: 0.368032\n"
     ]
    }
   ],
   "source": [
    "from sklearn.metrics import explained_variance_score, mean_poisson_deviance, mean_gamma_deviance\n",
    "from sklearn.metrics import r2_score\n",
    "from sklearn.metrics import max_error\n",
    "\n",
    "\n",
    "yhat_probs = model.predict(test_X, verbose=0)\n",
    "\n",
    "yhat_probs = yhat_probs[:, 0]\n",
    "\n",
    "var = explained_variance_score(test_Y.reshape(-1,1), yhat_probs)\n",
    "print('Variance: %f' % var)\n",
    "\n",
    "r2 = r2_score(test_Y.reshape(-1,1), yhat_probs)\n",
    "print('R2 Score: %f' % var)\n",
    "\n",
    "var2 = max_error(test_Y.reshape(-1,1), yhat_probs)\n",
    "print('Max Error: %f' % var2)"
   ]
  },
  {
   "cell_type": "code",
   "execution_count": 27,
   "metadata": {},
   "outputs": [
    {
     "data": {
      "image/png": "[encoded data removed]",
      "text/plain": [
       "<Figure size 432x288 with 1 Axes>"
      ]
     },
     "metadata": {},
     "output_type": "display_data"
    }
   ],
   "source": [
    "predicted  = model.predict(test_X)\n",
    "test_label = test_Y.reshape(-1,1)\n",
    "predicted = np.array(predicted[:,0]).reshape(-1,1)\n",
    "len_t = len(train_X)\n",
    "for j in range(len_t , len_t + len(test_X)):\n",
    "    temp = data.iloc[j,2]\n",
    "    test_label[j - len_t] = test_label[j - len_t] * temp + temp\n",
    "    predicted[j - len_t] = predicted[j - len_t] * temp + temp\n",
    "plt.plot(predicted, color = 'green', label = 'Predicted  Stock Price')\n",
    "plt.plot(test_label, color = 'red', label = 'Real Stock Price')\n",
    "plt.title(' Stock Price Prediction')\n",
    "plt.xlabel('Time')\n",
    "plt.ylabel(' Stock Price')\n",
    "plt.legend()\n",
    "plt.show()"
   ]
  },
  {
   "cell_type": "code",
   "execution_count": 28,
   "metadata": {},
   "outputs": [
    {
     "data": {
      "text/plain": [
       "21.32765493501242"
      ]
     },
     "execution_count": 28,
     "metadata": {},
     "output_type": "execute_result"
    }
   ],
   "source": [
    "from sklearn.metrics import mean_squared_error\n",
    "mse = mean_squared_error(test_label,predicted)\n",
    "mse"
   ]
  },
  {
   "cell_type": "code",
   "execution_count": 29,
   "metadata": {},
   "outputs": [
    {
     "data": {
      "text/plain": [
       "4.618187407956981"
      ]
     },
     "execution_count": 29,
     "metadata": {},
     "output_type": "execute_result"
    }
   ],
   "source": [
    "rmse = np.sqrt(mse)\n",
    "rmse"
   ]
  },
  {
   "cell_type": "code",
   "execution_count": 29,
   "metadata": {},
   "outputs": [],
   "source": [
    "model.save(\"model-cnn-noshuffle.h5\")"
   ]
  },
  {
   "cell_type": "code",
   "execution_count": 30,
   "metadata": {},
   "outputs": [
    {
     "name": "stdout",
     "output_type": "stream",
     "text": [
      "4.6364927\n"
     ]
    }
   ],
   "source": [
    "from tensorflow import keras\n",
    "yActual = test_label\n",
    "yPredicted = predicted\n",
    " \n",
    "mapeObject = keras.losses.MeanAbsolutePercentageError()\n",
    "mapeTensor = mapeObject(yActual, yPredicted)\n",
    "mape = mapeTensor.numpy()\n",
    " \n",
    "print(mape)"
   ]
  }
 ],
 "metadata": {
  "interpreter": {
   "hash": "7d63477d783983fa8490645f3080eec32b116d0acaa9d38947e7e0db2b45ceaa"
  },
  "kernelspec": {
   "display_name": "Python 3.9.6 64-bit",
   "language": "python",
   "name": "python3"
  },
  "language_info": {
   "codemirror_mode": {
    "name": "ipython",
    "version": 3
   },
   "file_extension": ".py",
   "mimetype": "text/x-python",
   "name": "python",
   "nbconvert_exporter": "python",
   "pygments_lexer": "ipython3",
   "version": "3.9.6"
  },
  "orig_nbformat": 4
 },
 "nbformat": 4,
 "nbformat_minor": 2
}
