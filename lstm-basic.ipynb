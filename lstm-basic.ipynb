{
 "cells": [
  {
   "cell_type": "code",
   "execution_count": 29,
   "metadata": {},
   "outputs": [],
   "source": [
    "import pandas as pd\n",
    "import numpy as np\n",
    "\n",
    "import matplotlib.pyplot as plt\n",
    "import seaborn as sns\n",
    "sns.set_style('whitegrid')\n",
    "plt.style.use(\"fivethirtyeight\")\n",
    "\n",
    "from datetime import datetime"
   ]
  },
  {
   "cell_type": "code",
   "execution_count": 32,
   "metadata": {},
   "outputs": [
    {
     "data": {
      "text/plain": [
       "9896"
      ]
     },
     "execution_count": 32,
     "metadata": {},
     "output_type": "execute_result"
    }
   ],
   "source": [
    "df = pd.read_csv('AAPL.csv')\n",
    "\n",
    "data = df.filter(['Close'])\n",
    "\n",
    "dataset = data.values\n",
    "\n",
    "training_data_len = int(np.ceil( len(dataset) * .95 ))\n",
    "\n",
    "training_data_len"
   ]
  },
  {
   "cell_type": "code",
   "execution_count": 34,
   "metadata": {},
   "outputs": [
    {
     "name": "stdout",
     "output_type": "stream",
     "text": [
      "[array([0.00043548, 0.00039868, 0.00034961, 0.00036495, 0.00038335,\n",
      "       0.00042322, 0.00045695, 0.00048762, 0.00052749, 0.00060109,\n",
      "       0.00061336, 0.00059189, 0.00056736, 0.00057656, 0.00055816,\n",
      "       0.00052135, 0.00048762, 0.00047229, 0.00051215, 0.00050602,\n",
      "       0.00047842, 0.00048149, 0.00049682, 0.00049069, 0.00053669,\n",
      "       0.00051215, 0.00052749, 0.00053669, 0.00053362, 0.00052135,\n",
      "       0.00051522, 0.00049069, 0.00046309, 0.00042322, 0.00038335,\n",
      "       0.00040788, 0.00043242, 0.00043242, 0.00043548, 0.00039868,\n",
      "       0.00039868, 0.00037722, 0.00037108, 0.00035575, 0.00037108,\n",
      "       0.00039868, 0.00035881, 0.00032508, 0.00033428, 0.00031281,\n",
      "       0.00034961, 0.00035881, 0.00038029, 0.00038335, 0.00037415,\n",
      "       0.00036801, 0.00036495, 0.00035881, 0.00030975, 0.00028214])]\n",
      "[0.00026067687942511183]\n",
      "\n",
      "[array([0.00043548, 0.00039868, 0.00034961, 0.00036495, 0.00038335,\n",
      "       0.00042322, 0.00045695, 0.00048762, 0.00052749, 0.00060109,\n",
      "       0.00061336, 0.00059189, 0.00056736, 0.00057656, 0.00055816,\n",
      "       0.00052135, 0.00048762, 0.00047229, 0.00051215, 0.00050602,\n",
      "       0.00047842, 0.00048149, 0.00049682, 0.00049069, 0.00053669,\n",
      "       0.00051215, 0.00052749, 0.00053669, 0.00053362, 0.00052135,\n",
      "       0.00051522, 0.00049069, 0.00046309, 0.00042322, 0.00038335,\n",
      "       0.00040788, 0.00043242, 0.00043242, 0.00043548, 0.00039868,\n",
      "       0.00039868, 0.00037722, 0.00037108, 0.00035575, 0.00037108,\n",
      "       0.00039868, 0.00035881, 0.00032508, 0.00033428, 0.00031281,\n",
      "       0.00034961, 0.00035881, 0.00038029, 0.00038335, 0.00037415,\n",
      "       0.00036801, 0.00036495, 0.00035881, 0.00030975, 0.00028214]), array([0.00039868, 0.00034961, 0.00036495, 0.00038335, 0.00042322,\n",
      "       0.00045695, 0.00048762, 0.00052749, 0.00060109, 0.00061336,\n",
      "       0.00059189, 0.00056736, 0.00057656, 0.00055816, 0.00052135,\n",
      "       0.00048762, 0.00047229, 0.00051215, 0.00050602, 0.00047842,\n",
      "       0.00048149, 0.00049682, 0.00049069, 0.00053669, 0.00051215,\n",
      "       0.00052749, 0.00053669, 0.00053362, 0.00052135, 0.00051522,\n",
      "       0.00049069, 0.00046309, 0.00042322, 0.00038335, 0.00040788,\n",
      "       0.00043242, 0.00043242, 0.00043548, 0.00039868, 0.00039868,\n",
      "       0.00037722, 0.00037108, 0.00035575, 0.00037108, 0.00039868,\n",
      "       0.00035881, 0.00032508, 0.00033428, 0.00031281, 0.00034961,\n",
      "       0.00035881, 0.00038029, 0.00038335, 0.00037415, 0.00036801,\n",
      "       0.00036495, 0.00035881, 0.00030975, 0.00028214, 0.00026068])]\n",
      "[0.00026067687942511183, 0.00028214305374621977]\n",
      "\n"
     ]
    }
   ],
   "source": [
    "from sklearn.preprocessing import MinMaxScaler\n",
    "\n",
    "scaler = MinMaxScaler(feature_range=(0,1))\n",
    "scaled_data = scaler.fit_transform(dataset)\n",
    "\n",
    "scaled_data\n",
    "\n",
    "train_data = scaled_data[0:int(training_data_len), :]\n",
    "\n",
    "x_train = []\n",
    "y_train = []\n",
    "\n",
    "for i in range(60, len(train_data)):\n",
    "    x_train.append(train_data[i-60:i, 0])\n",
    "    y_train.append(train_data[i, 0])\n",
    "    if i<= 61:\n",
    "        print(x_train)\n",
    "        print(y_train)\n",
    "        print()\n",
    "        \n",
    "\n",
    "x_train, y_train = np.array(x_train), np.array(y_train)\n",
    "\n",
    "\n",
    "x_train = np.reshape(x_train, (x_train.shape[0], x_train.shape[1], 1))"
   ]
  },
  {
   "cell_type": "code",
   "execution_count": 35,
   "metadata": {},
   "outputs": [],
   "source": [
    "from keras.models import Sequential\n",
    "from keras.layers import Dense, LSTM\n",
    "model = Sequential()\n",
    "model.add(LSTM(128, return_sequences=True, input_shape= (x_train.shape[1], 1)))\n",
    "model.add(LSTM(64, return_sequences=False))\n",
    "model.add(Dense(25))\n",
    "model.add(Dense(1))\n",
    "\n",
    "\n",
    "model.compile(optimizer='adam', loss='mean_squared_error')\n"
   ]
  },
  {
   "cell_type": "code",
   "execution_count": 36,
   "metadata": {},
   "outputs": [
    {
     "name": "stdout",
     "output_type": "stream",
     "text": [
      "Epoch 1/40\n",
      "246/246 [==============================] - 22s 78ms/step - loss: 1.5327e-04\n",
      "Epoch 2/40\n",
      "246/246 [==============================] - 19s 75ms/step - loss: 1.5161e-05\n",
      "Epoch 3/40\n",
      "246/246 [==============================] - 18s 74ms/step - loss: 1.6485e-05\n",
      "Epoch 4/40\n",
      "246/246 [==============================] - 18s 75ms/step - loss: 1.3301e-05\n",
      "Epoch 5/40\n",
      "246/246 [==============================] - 17s 71ms/step - loss: 1.4138e-05\n",
      "Epoch 6/40\n",
      "246/246 [==============================] - 18s 75ms/step - loss: 1.0675e-05\n",
      "Epoch 7/40\n",
      "246/246 [==============================] - 18s 72ms/step - loss: 1.1161e-05\n",
      "Epoch 8/40\n",
      "246/246 [==============================] - 19s 77ms/step - loss: 1.1954e-05\n",
      "Epoch 9/40\n",
      "246/246 [==============================] - 19s 78ms/step - loss: 1.3097e-05\n",
      "Epoch 10/40\n",
      "246/246 [==============================] - 19s 77ms/step - loss: 9.3288e-06\n",
      "Epoch 11/40\n",
      "246/246 [==============================] - 19s 77ms/step - loss: 1.1572e-05\n",
      "Epoch 12/40\n",
      "246/246 [==============================] - 19s 78ms/step - loss: 8.8143e-06\n",
      "Epoch 13/40\n",
      "246/246 [==============================] - 20s 81ms/step - loss: 7.3387e-06\n",
      "Epoch 14/40\n",
      "246/246 [==============================] - 24s 97ms/step - loss: 7.0975e-06\n",
      "Epoch 15/40\n",
      "246/246 [==============================] - 21s 85ms/step - loss: 8.6695e-06\n",
      "Epoch 16/40\n",
      "246/246 [==============================] - 21s 84ms/step - loss: 1.0064e-05\n",
      "Epoch 17/40\n",
      "246/246 [==============================] - 21s 84ms/step - loss: 7.9833e-06\n",
      "Epoch 18/40\n",
      "246/246 [==============================] - 21s 85ms/step - loss: 6.7601e-06\n",
      "Epoch 19/40\n",
      "246/246 [==============================] - 22s 90ms/step - loss: 9.2662e-06\n",
      "Epoch 20/40\n",
      "246/246 [==============================] - 21s 87ms/step - loss: 7.4095e-06\n",
      "Epoch 21/40\n",
      "246/246 [==============================] - 21s 85ms/step - loss: 6.8636e-06\n",
      "Epoch 22/40\n",
      "246/246 [==============================] - 22s 88ms/step - loss: 6.7246e-06\n",
      "Epoch 23/40\n",
      "246/246 [==============================] - 22s 91ms/step - loss: 8.1880e-06\n",
      "Epoch 24/40\n",
      "246/246 [==============================] - 21s 84ms/step - loss: 6.9493e-06\n",
      "Epoch 25/40\n",
      "246/246 [==============================] - 21s 85ms/step - loss: 5.9789e-06\n",
      "Epoch 26/40\n",
      "246/246 [==============================] - 22s 90ms/step - loss: 7.4438e-06\n",
      "Epoch 27/40\n",
      "246/246 [==============================] - 24s 98ms/step - loss: 5.8005e-06\n",
      "Epoch 28/40\n",
      "246/246 [==============================] - 20s 83ms/step - loss: 5.3479e-06\n",
      "Epoch 29/40\n",
      "246/246 [==============================] - 19s 79ms/step - loss: 5.4364e-06\n",
      "Epoch 30/40\n",
      "246/246 [==============================] - 19s 77ms/step - loss: 5.1855e-06\n",
      "Epoch 31/40\n",
      "246/246 [==============================] - 19s 79ms/step - loss: 5.9495e-06\n",
      "Epoch 32/40\n",
      "246/246 [==============================] - 19s 76ms/step - loss: 5.7224e-06\n",
      "Epoch 33/40\n",
      "246/246 [==============================] - 19s 78ms/step - loss: 6.5028e-06\n",
      "Epoch 34/40\n",
      "246/246 [==============================] - 19s 78ms/step - loss: 6.1303e-06\n",
      "Epoch 35/40\n",
      "246/246 [==============================] - 19s 76ms/step - loss: 5.6206e-06\n",
      "Epoch 36/40\n",
      "246/246 [==============================] - 19s 78ms/step - loss: 5.1897e-06\n",
      "Epoch 37/40\n",
      "246/246 [==============================] - 16s 65ms/step - loss: 4.9017e-06\n",
      "Epoch 38/40\n",
      "246/246 [==============================] - 16s 65ms/step - loss: 6.5269e-06\n",
      "Epoch 39/40\n",
      "246/246 [==============================] - 16s 66ms/step - loss: 6.1809e-06\n",
      "Epoch 40/40\n",
      "246/246 [==============================] - 17s 67ms/step - loss: 6.1717e-06\n"
     ]
    },
    {
     "data": {
      "text/plain": [
       "<keras.callbacks.History at 0x19aeb652400>"
      ]
     },
     "execution_count": 36,
     "metadata": {},
     "output_type": "execute_result"
    }
   ],
   "source": [
    "model.fit(x_train, y_train, batch_size=40, epochs=40)"
   ]
  },
  {
   "cell_type": "code",
   "execution_count": 37,
   "metadata": {},
   "outputs": [],
   "source": [
    "\n",
    "\n",
    "test_data = scaled_data[training_data_len - 60: , :]\n",
    "\n",
    "x_test = []\n",
    "y_test = dataset[training_data_len:, :]\n",
    "for i in range(60, len(test_data)):\n",
    "    x_test.append(test_data[i-60:i, 0])\n",
    "    \n",
    "\n",
    "x_test = np.array(x_test)\n",
    "\n",
    "\n",
    "x_test = np.reshape(x_test, (x_test.shape[0], x_test.shape[1], 1 ))"
   ]
  },
  {
   "cell_type": "code",
   "execution_count": 38,
   "metadata": {},
   "outputs": [
    {
     "data": {
      "text/plain": [
       "3.954417573056901"
      ]
     },
     "execution_count": 38,
     "metadata": {},
     "output_type": "execute_result"
    }
   ],
   "source": [
    "\n",
    "\n",
    "\n",
    "predictions = model.predict(x_test)\n",
    "predictions = scaler.inverse_transform(predictions)\n",
    "\n",
    "\n",
    "rmse = np.sqrt(np.mean(((predictions - y_test) ** 2)))\n",
    "rmse"
   ]
  },
  {
   "cell_type": "code",
   "execution_count": 39,
   "metadata": {},
   "outputs": [
    {
     "name": "stderr",
     "output_type": "stream",
     "text": [
      "C:\\Users\\Hufal\\AppData\\Local\\Temp/ipykernel_17072/3344400724.py:3: SettingWithCopyWarning: \n",
      "A value is trying to be set on a copy of a slice from a DataFrame.\n",
      "Try using .loc[row_indexer,col_indexer] = value instead\n",
      "\n",
      "See the caveats in the documentation: https://pandas.pydata.org/pandas-docs/stable/user_guide/indexing.html#returning-a-view-versus-a-copy\n",
      "  valid['Predictions'] = predictions\n"
     ]
    },
    {
     "data": {
      "image/png": "[encoded data removed]",
      "text/plain": [
       "<Figure size 1152x432 with 1 Axes>"
      ]
     },
     "metadata": {},
     "output_type": "display_data"
    }
   ],
   "source": [
    "train = data[:training_data_len]\n",
    "valid = data[training_data_len:]\n",
    "valid['Predictions'] = predictions\n",
    "# Visualize the data\n",
    "plt.figure(figsize=(16,6))\n",
    "plt.title('Model')\n",
    "plt.xlabel('Date', fontsize=18)\n",
    "plt.ylabel('Close Price USD ($)', fontsize=18)\n",
    "plt.plot(train['Close'])\n",
    "plt.plot(valid[['Close', 'Predictions']])\n",
    "plt.legend(['Train', 'Val', 'Predictions'], loc='lower right')\n",
    "plt.show()"
   ]
  },
  {
   "cell_type": "code",
   "execution_count": 9,
   "metadata": {},
   "outputs": [],
   "source": [
    "model.save(\"basiclstm-1epoch.h5\")"
   ]
  },
  {
   "cell_type": "code",
   "execution_count": 40,
   "metadata": {},
   "outputs": [
    {
     "name": "stdout",
     "output_type": "stream",
     "text": [
      "2.513551\n"
     ]
    }
   ],
   "source": [
    "from tensorflow import keras\n",
    "yActual = y_test\n",
    "yPredicted = predictions\n",
    " \n",
    "mapeObject = keras.losses.MeanAbsolutePercentageError()\n",
    "mapeTensor = mapeObject(yActual, yPredicted)\n",
    "mape = mapeTensor.numpy()\n",
    " \n",
    "print(mape)"
   ]
  }
 ],
 "metadata": {
  "interpreter": {
   "hash": "7d63477d783983fa8490645f3080eec32b116d0acaa9d38947e7e0db2b45ceaa"
  },
  "kernelspec": {
   "display_name": "Python 3.9.6 64-bit",
   "language": "python",
   "name": "python3"
  },
  "language_info": {
   "codemirror_mode": {
    "name": "ipython",
    "version": 3
   },
   "file_extension": ".py",
   "mimetype": "text/x-python",
   "name": "python",
   "nbconvert_exporter": "python",
   "pygments_lexer": "ipython3",
   "version": "3.9.6"
  },
  "orig_nbformat": 4
 },
 "nbformat": 4,
 "nbformat_minor": 2
}
